{
 "cells": [
  {
   "cell_type": "code",
   "execution_count": null,
   "metadata": {},
   "outputs": [],
   "source": [
    "my_lsit = [2,3,4,7,11]\n",
    "\n",
    "for number in my_lsit :    #number는 그냥 지정해준 변수이름\n",
    "    print(number)\n",
    "\n",
    "i = 0\n",
    "while i < len(my_lsit) : \n",
    "    print(my_lsit[i])\n",
    "    i += 1"
   ]
  },
  {
   "cell_type": "code",
   "execution_count": null,
   "metadata": {},
   "outputs": [],
   "source": [
    "# range 함수\n",
    "#파라미터 2개버전\n",
    "# for i in range(start, stop) :\n",
    "    # print(i)\n",
    "for i in range(3, 11) :\n",
    "    print(i)"
   ]
  },
  {
   "cell_type": "code",
   "execution_count": null,
   "metadata": {},
   "outputs": [],
   "source": [
    "# 파라미터 1개 버전\n",
    "# for i in range(stop) : \n",
    "#     print(i)\n",
    "for i in range(10) :\n",
    "    print(i)"
   ]
  },
  {
   "cell_type": "code",
   "execution_count": null,
   "metadata": {},
   "outputs": [],
   "source": [
    " # 파라미터 3개 버전\n",
    "# for i in range(start, stop, step) : \n",
    "#     print(i)\n",
    "for i in range(3, 17, 3) :\n",
    "    print(i)"
   ]
  },
  {
   "cell_type": "code",
   "execution_count": null,
   "metadata": {},
   "outputs": [],
   "source": []
  }
 ],
 "metadata": {
  "kernelspec": {
   "display_name": "Python 3",
   "language": "python",
   "name": "python3"
  },
  "language_info": {
   "codemirror_mode": {
    "name": "ipython",
    "version": 3
   },
   "file_extension": ".py",
   "mimetype": "text/x-python",
   "name": "python",
   "nbconvert_exporter": "python",
   "pygments_lexer": "ipython3",
   "version": "3.11.3"
  },
  "orig_nbformat": 4
 },
 "nbformat": 4,
 "nbformat_minor": 2
}
