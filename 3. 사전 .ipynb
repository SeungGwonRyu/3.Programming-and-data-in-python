{
 "cells": [
  {
   "cell_type": "code",
   "execution_count": 3,
   "metadata": {},
   "outputs": [
    {
     "name": "stdout",
     "output_type": "stream",
     "text": [
      "9\n",
      "{5: 25, 2: 4, 3: 9}\n",
      "{5: 25, 2: 4, 3: 9, 9: 81}\n"
     ]
    }
   ],
   "source": [
    "# 사전 (dictionary)\n",
    "# key-value pair (키-값 쌍)\n",
    "my_dictionary = {\n",
    "    5: 25,\n",
    "    2: 4,\n",
    "    3: 9\n",
    "}\n",
    "print(my_dictionary[3])\n",
    "\n",
    "print(my_dictionary)\n",
    "\n",
    "my_dictionary[9] = 81\n",
    "print(my_dictionary)"
   ]
  },
  {
   "cell_type": "code",
   "execution_count": 2,
   "metadata": {},
   "outputs": [
    {
     "name": "stdout",
     "output_type": "stream",
     "text": [
      "이석진\n"
     ]
    }
   ],
   "source": [
    "#사전에는 인덱스는 순서값이 없다. 정수형일 필요가 없다.\n",
    "my_family = {\n",
    "    '엄마': '김자옥',\n",
    "    '아빠': '이석진',\n",
    "    '아들': '이동민',\n",
    "    '딸': '이지영'\n",
    "    }\n",
    "print(my_family['아빠'])"
   ]
  },
  {
   "cell_type": "code",
   "execution_count": 11,
   "metadata": {},
   "outputs": [
    {
     "name": "stdout",
     "output_type": "stream",
     "text": [
      "dict_values(['김자옥', '이석진', '이동민', '이지영'])\n",
      "True\n"
     ]
    }
   ],
   "source": [
    "my_family = {\n",
    "    '엄마': '김자옥',\n",
    "    '아빠': '이석진',\n",
    "    '아들': '이동민',\n",
    "    '딸': '이지영'\n",
    "    }\n",
    "print(my_family.values())\n",
    "print('이지영' in my_family.values())"
   ]
  },
  {
   "cell_type": "code",
   "execution_count": 3,
   "metadata": {},
   "outputs": [
    {
     "name": "stdout",
     "output_type": "stream",
     "text": [
      "엄마 김자옥\n",
      "아빠 이석진\n",
      "아들 이동민\n",
      "딸 이지영\n"
     ]
    }
   ],
   "source": [
    "# for value in my_family.values():\n",
    "#     print(value)\n",
    "\n",
    "# for key in my_family.keys():\n",
    "#     print(key)\n",
    "\n",
    "# for key in my_family.keys():\n",
    "#     value = my_family[key]\n",
    "#     print(key, value)\n",
    "\n",
    "for key, value in my_family.items():\n",
    "    print(key, value)"
   ]
  },
  {
   "cell_type": "code",
   "execution_count": 5,
   "metadata": {},
   "outputs": [
    {
     "name": "stdout",
     "output_type": "stream",
     "text": [
      "{'김영자': 11, '강승기': 6, '최만수': 8}\n"
     ]
    }
   ],
   "source": [
    "# 투표 결과 리스트\n",
    "votes = ['김영자', '강승기', '최만수', '김영자', '강승기', '강승기', '최만수', '김영자', \\\n",
    "'최만수', '김영자', '최만수', '김영자', '김영자', '최만수', '최만수', '최만수', '강승기', \\\n",
    "'강승기', '김영자', '김영자', '최만수', '김영자', '김영자', '강승기', '김영자']\n",
    "\n",
    "# 후보별 득표수 사전\n",
    "vote_counter = {}\n",
    "\n",
    "# 리스트 votes를 이용해서 사전 vote_counter를 정리하기\n",
    "for name in votes:\n",
    "    # 여기에 코드를 작성하세요\n",
    "    if name not in vote_counter:\n",
    "        vote_counter[name] = 1\n",
    "    else :\n",
    "        vote_counter[name] += 1\n",
    "# 후보별 득표수 출력\n",
    "print(vote_counter)\n"
   ]
  }
 ],
 "metadata": {
  "kernelspec": {
   "display_name": "Python 3",
   "language": "python",
   "name": "python3"
  },
  "language_info": {
   "codemirror_mode": {
    "name": "ipython",
    "version": 3
   },
   "file_extension": ".py",
   "mimetype": "text/x-python",
   "name": "python",
   "nbconvert_exporter": "python",
   "pygments_lexer": "ipython3",
   "version": "3.11.3"
  },
  "orig_nbformat": 4
 },
 "nbformat": 4,
 "nbformat_minor": 2
}
