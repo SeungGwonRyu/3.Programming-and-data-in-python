{
 "cells": [
  {
   "cell_type": "code",
   "execution_count": null,
   "metadata": {},
   "outputs": [],
   "source": [
    "#파이썬에서 어떤 값을 변수에 저장하면 그 값에 이름표를 주는 것\n",
    "# 한 이름표는 한곳에서만 \n",
    "x = [2, 3, 5, 7, 11]\n",
    "y = x\n",
    "y[2] = 4\n",
    "print(x)   ## 같은 리스트 가지고 있음\n",
    "print(y)   ## 가명 (alias)"
   ]
  },
  {
   "cell_type": "code",
   "execution_count": null,
   "metadata": {},
   "outputs": [],
   "source": [
    "x = [2, 3, 5, 7, 11]\n",
    "y = list(x)  #리스트 복사\n",
    "y[2] = 4\n",
    "print(x)   \n",
    "print(y) "
   ]
  },
  {
   "cell_type": "code",
   "execution_count": null,
   "metadata": {},
   "outputs": [],
   "source": [
    "# 두 자료형은 공통적으로 인덱싱이 가능\n",
    "# 알파벳 리스트의 인덱싱\n",
    "alphabets_list = ['A', 'B', 'C', 'D', 'E', 'F', 'G', 'H', 'I', 'J']\n",
    "print(alphabets_list[0])\n",
    "print(alphabets_list[1])\n",
    "print(alphabets_list[4])\n",
    "print(alphabets_list[-1])\n",
    "\n",
    "# 알파벳 문자열의 인덱싱\n",
    "alphabets_string = 'ABCDEFGHIJ'\n",
    "print(alphabets_string[0])\n",
    "print(alphabets_string[1])\n",
    "print(alphabets_string[4])\n",
    "print(alphabets_string[-1])"
   ]
  },
  {
   "cell_type": "code",
   "execution_count": null,
   "metadata": {},
   "outputs": [],
   "source": [
    "# for 반복문 : 두 자료형은 공통적으로 인덱싱이 가능합니다. 따라서 for 반복문에도 활용할 수 있습니다.\n",
    "# 알파벳 리스트의 반복문\n",
    "alphabets_list = ['C', 'O', 'D', 'E', 'I', 'T']\n",
    "for alphabet in alphabets_list:\n",
    "    print(alphabet)\n",
    "\n",
    "# 알파벳 문자열의 반복문\n",
    "alphabets_string = 'CODEIT'\n",
    "for alphabet in alphabets_string:\n",
    "    print(alphabet)"
   ]
  },
  {
   "cell_type": "code",
   "execution_count": null,
   "metadata": {},
   "outputs": [],
   "source": [
    "# 슬라이싱 : 두 자료형은 공통적으로 슬라이싱이 가능\n",
    "# 알파벳 리스트의 슬라이싱\n",
    "alphabets_list = ['A', 'B', 'C', 'D', 'E', 'F', 'G', 'H', 'I', 'J']\n",
    "print(alphabets_list[0:5])\n",
    "print(alphabets_list[4:])\n",
    "print(alphabets_list[:4])\n",
    "\n",
    "# 알파벳 문자열의 슬라이싱\n",
    "alphabets_string = 'ABCDEFGHIJ'\n",
    "print(alphabets_string[0:5])\n",
    "print(alphabets_string[4:])\n",
    "print(alphabets_string[:4])"
   ]
  },
  {
   "cell_type": "code",
   "execution_count": null,
   "metadata": {},
   "outputs": [],
   "source": [
    "# 리스트 데이터 바꾸기\n",
    "numbers = [1, 2, 3, 4]\n",
    "numbers[0] = 5\n",
    "print(numbers)\n",
    "\n",
    "# 문자열 데이터 바꾸기\n",
    "name = \"codeit\"\n",
    "name[0] = \"C\"\n",
    "print(name)\n",
    "#문자열을 수정불가\n"
   ]
  },
  {
   "cell_type": "code",
   "execution_count": 41,
   "metadata": {},
   "outputs": [
    {
     "name": "stdout",
     "output_type": "stream",
     "text": [
      "880720-123****\n",
      "880720123****\n",
      "930124-765****\n",
      "930124765****\n",
      "761214-235****\n",
      "761214235****\n"
     ]
    }
   ],
   "source": []
  }
 ],
 "metadata": {
  "kernelspec": {
   "display_name": "Python 3",
   "language": "python",
   "name": "python3"
  },
  "language_info": {
   "codemirror_mode": {
    "name": "ipython",
    "version": 3
   },
   "file_extension": ".py",
   "mimetype": "text/x-python",
   "name": "python",
   "nbconvert_exporter": "python",
   "pygments_lexer": "ipython3",
   "version": "3.11.3"
  },
  "orig_nbformat": 4
 },
 "nbformat": 4,
 "nbformat_minor": 2
}
