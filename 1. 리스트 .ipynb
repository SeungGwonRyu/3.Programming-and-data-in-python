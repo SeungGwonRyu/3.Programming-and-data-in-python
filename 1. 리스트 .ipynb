{
 "cells": [
  {
   "cell_type": "code",
   "execution_count": null,
   "metadata": {},
   "outputs": [],
   "source": [
    "# 리스트 (list)\n",
    "numbers = [2, 3, 5, 7, 11, 13]\n",
    "names = [\"윤수\", \"혜린\"]\n",
    "\n",
    "# print(numbers)\n",
    "# print(names)\n",
    "\n",
    "# #인덱싱 (indexing)\n",
    "# print(names[0])\n",
    "# print(numbers[1] + numbers[3])\n",
    "\n",
    "# print(numbers[-1])\n",
    "# print(numbers[-2])\n",
    "# print(numbers[-6])\n",
    "\n",
    "# 리스트 슬라이싱 (list slicing)\n",
    "# print(numbers[0:4]) \n",
    "# print(numbers[2:]) # 2부터 끝까지\n",
    "# print(numbers[:3]) # 처음부터 3까지\n",
    "\n",
    "# new_list = numbers[:3] # [2, 3, 5]\n",
    "# print(new_list[2])\n",
    "\n",
    "numbers[0] = numbers[0] + numbers[1]\n",
    "print(numbers)\n",
    "\n",
    "\n"
   ]
  },
  {
   "cell_type": "code",
   "execution_count": null,
   "metadata": {},
   "outputs": [],
   "source": [
    "# numbers = []\n",
    "# numbers.append(5). #추가연산\n",
    "# numbers.append(8)\n",
    "# print(numbers)\n",
    "# print(len(numbers))   # len = 리스트의 길이\n",
    "\n",
    "numbers = [2, 3, 5, 7, 11, 13, 17, 19]\n",
    "# del numbers[3] #리스트의 요소 삭제\n",
    "# print(numbers)\n",
    "\n",
    "numbers.insert(4, 37) # 삽입연산 - 원하는 위치에 삽입\n",
    "print(numbers)"
   ]
  },
  {
   "cell_type": "code",
   "execution_count": null,
   "metadata": {},
   "outputs": [],
   "source": [
    "numbers = [19, 13, 2, 5, 3, 11, 7, 17]\n",
    "\n",
    "# new_list = sorted(numbers, reverse = True)\n",
    "# print(new_list)\n",
    "\n",
    "numbers.sort(reverse=True)\n",
    "print(numbers)\n",
    "\n",
    "# sorted = 기존 리스트는 건드리지 않고, 정렬된 새로운 리스트를 리턴\n",
    "# sort = 아무것도 리턴하지 않고, 기존 리스트를 정렬\n",
    "\n"
   ]
  },
  {
   "cell_type": "code",
   "execution_count": null,
   "metadata": {},
   "outputs": [],
   "source": [
    "# 리스트에서 값의 존재 확인하기\n",
    "# value가 some_list의 요소인지 확인\n",
    "def in_list(some_list, value):\n",
    "    i = 0\n",
    "    while i < len(some_list):\n",
    "        # some_list에서 value를 찾으면 True를 리턴\n",
    "        if some_list[i] == value:\n",
    "            return True\n",
    "        i = i + 1\n",
    "\n",
    "    # 만약 some_list에서 value를 발견하지 못했으면 False를 리턴\n",
    "    return False\n",
    "\n",
    "# 테스트\n",
    "primes = [2, 3, 5, 7, 11, 13, 17, 19, 23]\n",
    "print(in_list(primes, 7))\n",
    "print(in_list(primes, 12))\n",
    "\n",
    "print(7 not in primes)\n",
    "print(12 not in primes)"
   ]
  },
  {
   "cell_type": "code",
   "execution_count": null,
   "metadata": {},
   "outputs": [],
   "source": [
    "# 리스트 안의 리스트 (Nested List)\n",
    "# 리스트 안에는 또 다른 리스트가 있을 수 있습니다. 이를 영어로 nested list라고 부릅니다.\n",
    "# 세 번의 시험을 보는 수업\n",
    "grades = [[62, 75, 77], [78, 81, 86], [85, 91, 89]]\n",
    "\n",
    "# 첫 번째 학생의 성적\n",
    "print(grades[0])\n",
    "\n",
    "# 세 번째 학생의 성적\n",
    "print(grades[2])\n",
    "\n",
    "# 첫 번째 학생의 첫 번째 시험 성적\n",
    "print(grades[0][0])\n",
    "\n",
    "# 세 번째 학생의 두 번째 시험 성적\n",
    "print(grades[2][1])\n",
    "\n",
    "# 첫 번째 시험의 평균\n",
    "print((grades[0][0] + grades[1][0] + grades[2][0]) / 3)"
   ]
  },
  {
   "cell_type": "code",
   "execution_count": null,
   "metadata": {},
   "outputs": [],
   "source": [
    "# sort 메소드\n",
    "# 저번에 정렬된 새로운 리스트를 리턴시켜주는 sorted 함수를 보여드렸습니다. some_list.sort()는 새로운 리스트를 생성하지 않고 some_list를 정렬된 상태로 바꿔줍니다.\n",
    "numbers = [5, 3, 7, 1]\n",
    "numbers.sort()\n",
    "print(numbers)"
   ]
  },
  {
   "cell_type": "code",
   "execution_count": null,
   "metadata": {},
   "outputs": [],
   "source": [
    "# reverse 메소드\n",
    "# some_list.reverse()는 some_list의 원소들을 뒤집어진 순서로 배치합니다.\n",
    "numbers = [5, 3, 7, 1]\n",
    "numbers.reverse()\n",
    "print(numbers)"
   ]
  },
  {
   "cell_type": "code",
   "execution_count": 1,
   "metadata": {},
   "outputs": [
    {
     "name": "stdout",
     "output_type": "stream",
     "text": [
      "1\n",
      "2\n"
     ]
    }
   ],
   "source": [
    "# index 메소드\n",
    "# some_list.index(x)는some_list에서 x의 값을 갖고 있는 원소의 인덱스를 리턴해줍니다.\n",
    "members = [\"영훈\", \"윤수\", \"태호\", \"혜린\"]\n",
    "print(members.index(\"윤수\"))\n",
    "print(members.index(\"태호\"))"
   ]
  },
  {
   "cell_type": "code",
   "execution_count": null,
   "metadata": {},
   "outputs": [],
   "source": [
    "# remove 메소드\n",
    "# some_list.remove(x)는some_list에서 첫 번째로 x의 값을 갖고 있는 원소를 삭제해줍니다\n",
    "fruits = [\"딸기\", \"당근\", \"파인애플\", \"수박\", \"참외\", \"메론\"]\n",
    "fruits.remove(\"파인애플\")\n",
    "print(fruits)"
   ]
  }
 ],
 "metadata": {
  "kernelspec": {
   "display_name": "Python 3",
   "language": "python",
   "name": "python3"
  },
  "language_info": {
   "codemirror_mode": {
    "name": "ipython",
    "version": 3
   },
   "file_extension": ".py",
   "mimetype": "text/x-python",
   "name": "python",
   "nbconvert_exporter": "python",
   "pygments_lexer": "ipython3",
   "version": "3.11.3"
  },
  "orig_nbformat": 4
 },
 "nbformat": 4,
 "nbformat_minor": 2
}
